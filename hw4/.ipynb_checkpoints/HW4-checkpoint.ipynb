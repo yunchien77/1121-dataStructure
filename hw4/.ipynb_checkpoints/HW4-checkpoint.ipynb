{
 "cells": [
  {
   "cell_type": "markdown",
   "metadata": {},
   "source": [
    "## Homework 4 (Data Structures, Fall 2023)\n",
    "### Due: December 5, 2023\n",
    "\n",
    "### Name: 葉芸茜\n",
    "### Student ID Number: B812110004\n",
    "\n",
    "Note: **Late work** is not acceptable. Remember, the ***deadline*** is the midnight of **December 5, 2023**.\n",
    "\n",
    "Honest Policy: We encourage students to discuss their work with the peer. However, each student should write the program and the problem solutions on her/his own. Those who copy others' work will get 0 on the homework grade.\n"
   ]
  },
  {
   "cell_type": "markdown",
   "metadata": {},
   "source": [
    "#### Problem 5 -- Programming (Binary Search Trees)\n",
    "In this problem, you need to implement an ***array-based binary search tree*** $T$ with the following associated operations(methods) using Python. We assume that each node is represented by a key value which is an integer. The operations include:\n",
    "1. `insert(x)`: insert a node with key $x$ into $T$.\n",
    "2. `delete(x)`: delete a node with key $x$ from $T$.\n",
    "3. `searchKey(x)`: perform the search process from the root; if the search fails, print `NOT found`; otherwise, print `x is found`.\n",
    "4. `printProperty()`: print out the properties of tree $T$, including the height and size of $T$.\n",
    "5. `preorderTraversal()`: list all the nodes using a preorder traversal.\n",
    "6. `postorderTraversal()`: list all the nodes using a postorder traversal.\n",
    "7. `inorderTraversal()`: list all the nodes using a inorder traversal.\n",
    "The binary search tree will be built or defined as a class, `BinarySearchTree`, and the operations mentioned above are defined as the methods. Of course, you can have other auxiliary methods. Initially, the binary search tree is empty. Your program allows the user to search, insert, and delete a node with a key. Please run `preorderTraversal()`, `postorderTraversal()`, and `inorderTraversal()` for the same binary search tree to see what you can observe.\n",
    "\n",
    "[Python math Module](https://docs.python.org/3/library/math.html)"
   ]
  },
  {
   "cell_type": "code",
   "execution_count": 1,
   "metadata": {},
   "outputs": [],
   "source": [
    "#\n",
    "# This block is for your to write your codes for problem 6.\n",
    "# The requested methods are listed below and you can add \n",
    "# your own variables, functions, and methods\n",
    "#\n",
    "\n",
    "# you may need Python math Module, https://docs.python.org/3/library/math.html\n",
    "import math\n",
    "\n",
    "# class of a Binary Search Tree\n",
    "class BinarySearchTree:\n",
    "    def __init__(self):\n",
    "\n",
    "    \n",
    "    # reuqested operation 1\n",
    "    def insert(self, key):\n",
    "\n",
    "    # reuqested operation 2\n",
    "    def delete(self, key):\n",
    "\n",
    "    # reuqested operation 3\n",
    "    def searchKey(self, key):\n",
    "\n",
    "    # reuqested operation 4\n",
    "    def printProperty(self):\n",
    "        \n",
    "    # reuqested operation 5\n",
    "    def preorderTraversal(self):\n",
    "\n",
    "    # reuqested operation 6\n",
    "    def postorderTraversal(self):\n",
    "\n",
    "    # reuqested operation 7\n",
    "    def inorderTraversal(self):\n",
    "    "
   ]
  },
  {
   "cell_type": "code",
   "execution_count": 2,
   "metadata": {},
   "outputs": [
    {
     "name": "stdout",
     "output_type": "stream",
     "text": [
      "[0, 'X']\n",
      "The height of T is 0  and the size of T is 0 .\n",
      "Preorder of T : Tree T is empty\n",
      "Postorder of T: Tree T is empty\n",
      "Inorder of T  : Tree T is empty\n"
     ]
    }
   ],
   "source": [
    "# Simple test from the scratch\n",
    "# initializing a BST\n",
    "T=BinarySearchTree()\n",
    "print(T.array)\n",
    "T.printProperty()\n",
    "T.preorderTraversal()\n",
    "T.postorderTraversal()\n",
    "T.inorderTraversal()"
   ]
  },
  {
   "cell_type": "code",
   "execution_count": 3,
   "metadata": {},
   "outputs": [
    {
     "name": "stdout",
     "output_type": "stream",
     "text": [
      "Key  9 is NOT found\n",
      "None\n",
      "[0, 35]\n",
      "The height of T is 0  and the size of T is 1 .\n",
      "Preorder of T : 35 \n",
      "Postorder of T: 35 \n",
      "Inorder of T  : 35 \n"
     ]
    }
   ],
   "source": [
    "# Simple test\n",
    "print(T.searchKey(9))\n",
    "T.insert(35)\n",
    "print(T.array)\n",
    "T.printProperty()\n",
    "T.preorderTraversal()\n",
    "T.postorderTraversal()\n",
    "T.inorderTraversal()"
   ]
  },
  {
   "cell_type": "code",
   "execution_count": 4,
   "metadata": {},
   "outputs": [
    {
     "name": "stdout",
     "output_type": "stream",
     "text": [
      "[0, 35, 'X', 45, 'X', 'X', 40, 'X', 'X', 'X', 'X', 'X', 'X', 43, 'X', 'X', 'X', 'X', 'X', 'X', 'X', 'X', 'X', 'X', 'X', 'X', 41, 'X', 'X', 'X', 'X', 'X', 'X', 'X', 'X', 'X', 'X', 'X', 'X', 'X', 'X', 'X', 'X', 'X', 'X', 'X', 'X', 'X', 'X', 'X', 'X', 'X', 'X', 42, 'X', 'X', 'X', 'X', 'X', 'X', 'X', 'X', 'X', 'X']\n",
      "The height of T is 5  and the size of T is 6 .\n",
      "Preorder of T : 35 45 40 43 41 42 \n",
      "Postorder of T: 42 41 43 40 45 35 \n",
      "Inorder of T  : 35 40 41 42 43 45 \n"
     ]
    }
   ],
   "source": [
    "# Simple test on insertions\n",
    "T.insert(45)\n",
    "T.insert(40)\n",
    "T.insert(43)\n",
    "T.insert(41)\n",
    "T.insert(42)\n",
    "print(T.array)\n",
    "T.printProperty()\n",
    "T.preorderTraversal()\n",
    "T.postorderTraversal()\n",
    "T.inorderTraversal()"
   ]
  },
  {
   "cell_type": "code",
   "execution_count": 5,
   "metadata": {},
   "outputs": [
    {
     "name": "stdout",
     "output_type": "stream",
     "text": [
      "Key  30 does not exist\n",
      "Key  38 does not exist\n",
      "[0, 35, 'X', 45, 'X', 'X', 41, 'X', 'X', 'X', 'X', 'X', 'X', 43, 'X', 'X', 'X', 'X', 'X', 'X', 'X', 'X', 'X', 'X', 'X', 'X', 42, 'X', 'X', 'X', 'X', 'X']\n",
      "The height of T is 4  and the size of T is 5 .\n",
      "Preorder of T : 35 45 41 43 42 \n",
      "Postorder of T: 42 43 41 45 35 \n",
      "Inorder of T  : 35 41 42 43 45 \n"
     ]
    }
   ],
   "source": [
    "# Simple test on deletions\n",
    "T.delete(30)\n",
    "T.delete(38)\n",
    "T.delete(40)\n",
    "print(T.array)\n",
    "T.printProperty()\n",
    "T.preorderTraversal()\n",
    "T.postorderTraversal()\n",
    "T.inorderTraversal()"
   ]
  }
 ],
 "metadata": {
  "kernelspec": {
   "display_name": "Python 3 (ipykernel)",
   "language": "python",
   "name": "python3"
  },
  "language_info": {
   "codemirror_mode": {
    "name": "ipython",
    "version": 3
   },
   "file_extension": ".py",
   "mimetype": "text/x-python",
   "name": "python",
   "nbconvert_exporter": "python",
   "pygments_lexer": "ipython3",
   "version": "3.10.9"
  }
 },
 "nbformat": 4,
 "nbformat_minor": 4
}
