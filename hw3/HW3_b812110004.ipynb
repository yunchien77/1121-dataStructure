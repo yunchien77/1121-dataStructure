{
 "cells": [
  {
   "cell_type": "markdown",
   "metadata": {},
   "source": [
    "## Homework 2 - Programming Problem (Data Structures, Fall 2023)\n",
    "\n",
    "### Due: Nov 7, 2023\n",
    "\n",
    "### SID:B812110004\n",
    "### Name: 葉芸茜"
   ]
  },
  {
   "cell_type": "markdown",
   "metadata": {},
   "source": [
    "#### Problem 6. (Programming Exercise)\n",
    "A ***Gray code*** is an encoding of numbers so that two contiguous numbers have a single digit differing by 1. The term Gray code is often used to refer to a \"reflected\" code, or more specifically still, the binary reflected Gray code. For example, one-bit Gray code is $G_1=[0, 1]$ and two-bit Gray code is $G_2=[00, 01, 11, 10]$. Three-bit Gray code is as follows:\n",
    "\n",
    "| Dec | Gray |\n",
    "|-----|------|\n",
    "| 0   | 000  |\n",
    "| 1   | 001  |\n",
    "| 2   | 011  |\n",
    "| 3   | 010  |\n",
    "| 4   | 110  |\n",
    "| 5   | 111  |\n",
    "| 6   | 101  |\n",
    "| 7   | 100  |\n",
    "\n",
    "This exercise asks you to list the $n$-bit Gray code using a ***stack***. Your Python program should read a value $n$ (the number of bits for the Gray code) and use a stack to help you to generate the $n$-bit Gray codes as well as list them in order. \n",
    "\n",
    "Please note that your program **must use a *stack*** as an auxiliary tool. When you submit your homework, you need to indicate where the stack is in your program and how it helps."
   ]
  },
  {
   "cell_type": "code",
   "execution_count": 1,
   "metadata": {},
   "outputs": [],
   "source": [
    "class Stack:\n",
    "    def __init__(self):\n",
    "        self.items = []\n",
    "\n",
    "    def is_empty(self):\n",
    "        return len(self.items) == 0\n",
    "\n",
    "    def push(self, item):\n",
    "        self.items.append(item)\n",
    "\n",
    "    def pop(self):\n",
    "        if not self.is_empty():\n",
    "            return self.items.pop()\n",
    "        else:\n",
    "            return None"
   ]
  },
  {
   "cell_type": "code",
   "execution_count": 4,
   "metadata": {},
   "outputs": [
    {
     "name": "stdout",
     "output_type": "stream",
     "text": [
      "Please enter the number of bits for the Gray code:4\n",
      "['0000'\n",
      " '0001'\n",
      " '0011'\n",
      " '0010'\n",
      " '0110'\n",
      " '0111'\n",
      " '0101'\n",
      " '0100'\n",
      " '1100'\n",
      " '1101'\n",
      " '1111'\n",
      " '1110'\n",
      " '1010'\n",
      " '1011'\n",
      " '1001'\n",
      " '1000']\n"
     ]
    }
   ],
   "source": [
    "def Gray_Code_Generator(n):\n",
    "     if n == 0:\n",
    "        return [\"\"]\n",
    "     else:\n",
    "        gray = Gray_Code_Generator(n - 1)\n",
    "        result = []\n",
    "\n",
    "        for i in gray:\n",
    "            result.append(\"0\" + i)\n",
    "\n",
    "        for i in range(len(gray)):\n",
    "            result.append(\"1\" + gray.pop())\n",
    "\n",
    "        return result\n",
    "\n",
    "n = int(input(\"Please enter the number of bits for the Gray code:\"))\n",
    "gray_code = Gray_Code_Generator(n)\n",
    "\n",
    "print(f\"['{gray_code[0]}'\", end='')\n",
    "for code in gray_code[1:]:\n",
    "    print(f\"\\n '{code}'\", end='')\n",
    "print(\"]\")"
   ]
  },
  {
   "cell_type": "markdown",
   "metadata": {},
   "source": [
    "### 程式碼解說\n",
    "\n",
    "python的list中的append()和pop()，與stack的push()和pop()相似，前者是用來將元素加到末尾，後者則是將最後一個元素取出來。因此程式中使用到的list，都被當作stack來使用。\n",
    "透過地回的方式獲取n-1的gray，如當輸入n=3，則遞迴後會獲得gray = ['00', '01', '11', '10']，然後新增一個名為result的stack，在gray的每個元素前加'0'並push進去result，則result為['000', '001', '011', '010']\n",
    "之後，再將gray中的元素從最後開始pop出來，並在前面加上'1'後push進result，則result=['000', '001', '011', '010', '110', '111', '101', '100']"
   ]
  },
  {
   "cell_type": "code",
   "execution_count": null,
   "metadata": {},
   "outputs": [],
   "source": []
  }
 ],
 "metadata": {
  "kernelspec": {
   "display_name": "Python 3 (ipykernel)",
   "language": "python",
   "name": "python3"
  },
  "language_info": {
   "codemirror_mode": {
    "name": "ipython",
    "version": 3
   },
   "file_extension": ".py",
   "mimetype": "text/x-python",
   "name": "python",
   "nbconvert_exporter": "python",
   "pygments_lexer": "ipython3",
   "version": "3.10.9"
  }
 },
 "nbformat": 4,
 "nbformat_minor": 2
}
