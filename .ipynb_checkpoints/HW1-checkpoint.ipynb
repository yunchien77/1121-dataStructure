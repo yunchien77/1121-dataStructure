{
 "cells": [
  {
   "cell_type": "markdown",
   "id": "1cd383bc",
   "metadata": {},
   "source": [
    "## Homework 1 - Python Practice (Data Structures, Fall 2023)\n",
    "\n",
    "### Name:\n",
    "### Student ID Number:"
   ]
  },
  {
   "cell_type": "markdown",
   "id": "e943366e",
   "metadata": {},
   "source": [
    "### Problem 1\n",
    "Write a short Python function, `is_bigger(n, m)`, that takes two integer values and returns the bigger one."
   ]
  },
  {
   "cell_type": "code",
   "execution_count": 1,
   "id": "a4ff2e1d",
   "metadata": {},
   "outputs": [
    {
     "name": "stdout",
     "output_type": "stream",
     "text": [
      "Please enter two integers n,m: 13, 54\n",
      "The bigger one of ( 13 , 54 ) is  54\n"
     ]
    }
   ],
   "source": []
  },
  {
   "cell_type": "markdown",
   "id": "52c09cee",
   "metadata": {},
   "source": [
    "### Problem 2\n",
    "Write a Python function, `IDvalidation(s)`, that takes a personal ID (Taiwan, ROC) string `s` and returns **Valid**, if `s` is a valid ID, and **Invalid**, otherwise. You need to provide a short script of Python code that repeatedly reads the input ID string and outputs the validation.\n",
    "One can refer to WIKI for related information about ID in Taiwan, [National identification card (Taiwan)](\n",
    "https://en.wikipedia.org/wiki/National_identification_card_(Taiwan)).\n",
    "In addition, in order to parse the input line, [`re`](https://docs.python.org/3/library/re.html) package is recommended."
   ]
  },
  {
   "cell_type": "code",
   "execution_count": 2,
   "id": "8716ba34",
   "metadata": {},
   "outputs": [
    {
     "name": "stdout",
     "output_type": "stream",
     "text": [
      "please input your personal ID:H121309605\n",
      "Invalid\n"
     ]
    }
   ],
   "source": [
    "import re\n",
    "\n",
    "\n"
   ]
  },
  {
   "cell_type": "markdown",
   "id": "9fec4ea3",
   "metadata": {},
   "source": [
    "### Problem 3\n",
    "Implement the simple methods `get\\_num()` and `get\\_den()` that will return the *numerator* and *denominator* of a *fraction* respectively."
   ]
  },
  {
   "cell_type": "code",
   "execution_count": 3,
   "id": "88ffb5ec",
   "metadata": {},
   "outputs": [
    {
     "name": "stdout",
     "output_type": "stream",
     "text": [
      "please input a fraction:45/998\n",
      "The denominator is:\n",
      "998\n",
      "The numerator is:\n",
      "45\n"
     ]
    }
   ],
   "source": []
  },
  {
   "cell_type": "markdown",
   "id": "d782abd9",
   "metadata": {},
   "source": [
    "### Problem 4\n",
    "Instead of calling `sqrt()` from the math module of Python to compute the square root, we could implement our own square root function by using a well-known technique called **Newton's Method**. Newton's Method for approximating square roots performs an iterative computation that converges on the correct value. The equation\n",
    "$$\n",
    "new\\_guess=\\frac{1}{2}\\times(old\\_guess+\\frac{n}{old\\_guess})\n",
    "$$\n",
    "takes a value $n$ and repeatedly guesses the square root of $n$ by making each $new\\_guess$ the $old\\_guess$ in the subsequent iteration. The initial guess used here is $\\frac{n}{2}$. Please write a Python function, `square_root(n)` that accepts a value $n$ and returns the square root of $n$ after making 20 guesses."
   ]
  },
  {
   "cell_type": "code",
   "execution_count": 4,
   "id": "5dbce87b",
   "metadata": {},
   "outputs": [
    {
     "name": "stdout",
     "output_type": "stream",
     "text": [
      "3.0\n",
      "67.54998149518622\n"
     ]
    }
   ],
   "source": [
    "\n"
   ]
  },
  {
   "cell_type": "markdown",
   "id": "d419c7a0",
   "metadata": {},
   "source": [
    "### Problem 5\n",
    "Recall the *selection sort* we discussed in class. Please provide a Python function,`selection\\_sort(A)`, that reads a list `A` and outputs the sorted list. In the program file, you need to provide a short script of Python code that reads the original list of numbers and prints out the original and sorted lists respectively."
   ]
  },
  {
   "cell_type": "code",
   "execution_count": 5,
   "id": "27b10143",
   "metadata": {},
   "outputs": [
    {
     "name": "stdout",
     "output_type": "stream",
     "text": [
      "Please enter the numbers to be sorted and separate them by spaces:\n",
      "12 32 43 54 6 34 7\n",
      "The sorted array of [12, 32, 43, 54, 6, 34, 7] is [6, 7, 12, 32, 34, 43, 54]\n"
     ]
    }
   ],
   "source": []
  },
  {
   "cell_type": "code",
   "execution_count": null,
   "id": "4f805e74",
   "metadata": {},
   "outputs": [],
   "source": []
  }
 ],
 "metadata": {
  "kernelspec": {
   "display_name": "Python 3 (ipykernel)",
   "language": "python",
   "name": "python3"
  },
  "language_info": {
   "codemirror_mode": {
    "name": "ipython",
    "version": 3
   },
   "file_extension": ".py",
   "mimetype": "text/x-python",
   "name": "python",
   "nbconvert_exporter": "python",
   "pygments_lexer": "ipython3",
   "version": "3.11.3"
  }
 },
 "nbformat": 4,
 "nbformat_minor": 5
}
