{
 "cells": [
  {
   "cell_type": "markdown",
   "id": "1cd383bc",
   "metadata": {},
   "source": [
    "## Homework 1 - Python Practice (Data Structures, Fall 2023)\n",
    "\n",
    "### Name: 葉芸茜\n",
    "### Student ID Number: b812110004"
   ]
  },
  {
   "cell_type": "markdown",
   "id": "e943366e",
   "metadata": {},
   "source": [
    "### Problem 1\n",
    "Write a short Python function, `is_bigger(n, m)`, that takes two integer values and returns the bigger one."
   ]
  },
  {
   "cell_type": "code",
   "execution_count": 9,
   "id": "a4ff2e1d",
   "metadata": {},
   "outputs": [
    {
     "name": "stdout",
     "output_type": "stream",
     "text": [
      "Please enter two integers n,m: 13, 54\n",
      "The bigger one of (13 , 54) is 54\n"
     ]
    }
   ],
   "source": [
    "def is_bigger(n, m):\n",
    "    if n > m:\n",
    "        return n\n",
    "    elif n < m:\n",
    "        return m\n",
    "    else:\n",
    "        return \"two numbers are equal\"\n",
    "\n",
    "n, m = map(int, input(\"Please enter two integers n,m: \").split(','))\n",
    "print(f\"The bigger one of ({n} , {m}) is\", is_bigger(n,m))"
   ]
  },
  {
   "cell_type": "markdown",
   "id": "52c09cee",
   "metadata": {},
   "source": [
    "### Problem 2\n",
    "Write a Python function, `IDvalidation(s)`, that takes a personal ID (Taiwan, ROC) string `s` and returns **Valid**, if `s` is a valid ID, and **Invalid**, otherwise. You need to provide a short script of Python code that repeatedly reads the input ID string and outputs the validation.\n",
    "One can refer to WIKI for related information about ID in Taiwan, [National identification card (Taiwan)](\n",
    "https://en.wikipedia.org/wiki/National_identification_card_(Taiwan)).\n",
    "In addition, in order to parse the input line, [`re`](https://docs.python.org/3/library/re.html) package is recommended."
   ]
  },
  {
   "cell_type": "code",
   "execution_count": 1,
   "id": "8716ba34",
   "metadata": {},
   "outputs": [
    {
     "name": "stdout",
     "output_type": "stream",
     "text": [
      "please input your personal ID: H121309605\n",
      "Invalid\n",
      "please input your personal ID: exit\n"
     ]
    }
   ],
   "source": [
    "import re\n",
    "\n",
    "def IDvalidation(s):\n",
    "    pattern = r'^[A-Z][12]\\d{8}$'\n",
    "\n",
    "    if re.match(pattern, s):\n",
    "        first_letter_num = ord(s[0].upper()) - ord('A') + 10\n",
    "        tens_digit = first_letter_num // 10\n",
    "        ones_digit = first_letter_num % 10\n",
    "        digits = [int(num) for num in s[1:]]\n",
    "        # 將號碼中九碼阿拉伯數字依序乘上8、7、6、5、4、3、2、1、1，最後再相加\n",
    "        weights = [8, 7, 6, 5, 4, 3, 2, 1, 1]\n",
    "        digits_sum = sum(digits[i] * weights[i] for i in range(len(digits))) + tens_digit * 1 + ones_digit * 9\n",
    "        if (digits_sum % 10) == 0:\n",
    "            return \"Valid\"\n",
    "        else:\n",
    "            return \"Invalid\"\n",
    "    else:\n",
    "        return \"Invalid\"\n",
    "\n",
    "while True:\n",
    "    id_str = input(\"please input your personal ID: \")\n",
    "    \n",
    "    if id_str.lower() == \"exit\":\n",
    "        break\n",
    "\n",
    "    print(IDvalidation(id_str))"
   ]
  },
  {
   "cell_type": "markdown",
   "id": "9fec4ea3",
   "metadata": {},
   "source": [
    "### Problem 3\n",
    "Implement the simple methods `get\\_num()` and `get\\_den()` that will return the *numerator* and *denominator* of a *fraction* respectively."
   ]
  },
  {
   "cell_type": "code",
   "execution_count": 4,
   "id": "88ffb5ec",
   "metadata": {},
   "outputs": [
    {
     "name": "stdout",
     "output_type": "stream",
     "text": [
      "Please input a fraction:45/998\n",
      "The denominator is:\n",
      " 998\n",
      "The numerator is:\n",
      " 45\n"
     ]
    }
   ],
   "source": [
    "class Fraction:\n",
    "    def __init__(self, numerator, denominator): # constructor\n",
    "        if denominator == 0:\n",
    "            raise ValueError(\"Denominator cannot be zero\")\n",
    "        self.numerator = numerator\n",
    "        self.denominator = denominator\n",
    "\n",
    "    def get_num(self):\n",
    "        return self.numerator\n",
    "\n",
    "    def get_den(self):\n",
    "        return self.denominator\n",
    "\n",
    "\n",
    "numerator, denominator = map(int, input(\"Please input a fraction:\").split('/'))\n",
    "fraction = Fraction(numerator, denominator)\n",
    "\n",
    "print(\"The denominator is:\\n\",fraction.get_den())\n",
    "print(\"The numerator is:\\n\",fraction.get_num())"
   ]
  },
  {
   "cell_type": "markdown",
   "id": "d782abd9",
   "metadata": {},
   "source": [
    "### Problem 4\n",
    "Instead of calling `sqrt()` from the math module of Python to compute the square root, we could implement our own square root function by using a well-known technique called **Newton's Method**. Newton's Method for approximating square roots performs an iterative computation that converges on the correct value. The equation\n",
    "$$\n",
    "new\\_guess=\\frac{1}{2}\\times(old\\_guess+\\frac{n}{old\\_guess})\n",
    "$$\n",
    "takes a value $n$ and repeatedly guesses the square root of $n$ by making each $new\\_guess$ the $old\\_guess$ in the subsequent iteration. The initial guess used here is $\\frac{n}{2}$. Please write a Python function, `square_root(n)` that accepts a value $n$ and returns the square root of $n$ after making 20 guesses."
   ]
  },
  {
   "cell_type": "code",
   "execution_count": 14,
   "id": "5dbce87b",
   "metadata": {},
   "outputs": [
    {
     "name": "stdout",
     "output_type": "stream",
     "text": [
      "3.0\n",
      "67.54998149518622\n"
     ]
    }
   ],
   "source": [
    "def square_root(n):\n",
    "    guess = n/2\n",
    "    for i in range(20):\n",
    "        guess = 0.5 * (guess + n/guess)\n",
    "    return guess\n",
    "\n",
    "'''try:\n",
    "    num = float(input())\n",
    "    print(square_root(num))\n",
    "except ValueError:\n",
    "    print('Invalid input. Please enter a valid number.')\n",
    "'''\n",
    "print(square_root(9))\n",
    "print(square_root(4563))"
   ]
  },
  {
   "cell_type": "markdown",
   "id": "d419c7a0",
   "metadata": {},
   "source": [
    "### Problem 5\n",
    "Recall the *selection sort* we discussed in class. Please provide a Python function,`selection\\_sort(A)`, that reads a list `A` and outputs the sorted list. In the program file, you need to provide a short script of Python code that reads the original list of numbers and prints out the original and sorted lists respectively."
   ]
  },
  {
   "cell_type": "code",
   "execution_count": 8,
   "id": "27b10143",
   "metadata": {},
   "outputs": [
    {
     "name": "stdout",
     "output_type": "stream",
     "text": [
      "Please enter the numbers to be sorted and separate them by spaces:\n",
      "12 32 43 54 6 34 7\n",
      "The sorted array of [12, 32, 43, 54, 6, 34, 7] is [6, 7, 12, 32, 34, 43, 54]\n"
     ]
    }
   ],
   "source": [
    "def selection_sort(unsorted_list):\n",
    "    n = len(unsorted_list)\n",
    "    A = unsorted_list[:]\n",
    "    for i in range(n):\n",
    "        for j in range(i+1, n):\n",
    "            if(A[i] > A[j]):\n",
    "                temp = A[i]\n",
    "                A[i] = A[j]\n",
    "                A[j] = temp\n",
    "    return A\n",
    "\n",
    "A_list = input('Please enter the numbers to be sorted and separate them by spaces:\\n').split()\n",
    "unsorted_list = [int(num) for num in A_list]\n",
    "sorted_list = selection_sort(unsorted_list)\n",
    "print(f'The sorted array of {unsorted_list} is {sorted_list}')"
   ]
  },
  {
   "cell_type": "code",
   "execution_count": null,
   "id": "9ef86870",
   "metadata": {},
   "outputs": [],
   "source": []
  }
 ],
 "metadata": {
  "kernelspec": {
   "display_name": "Python 3 (ipykernel)",
   "language": "python",
   "name": "python3"
  },
  "language_info": {
   "codemirror_mode": {
    "name": "ipython",
    "version": 3
   },
   "file_extension": ".py",
   "mimetype": "text/x-python",
   "name": "python",
   "nbconvert_exporter": "python",
   "pygments_lexer": "ipython3",
   "version": "3.10.9"
  }
 },
 "nbformat": 4,
 "nbformat_minor": 5
}
