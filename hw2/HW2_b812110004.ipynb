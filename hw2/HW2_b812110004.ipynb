{
 "cells": [
  {
   "cell_type": "markdown",
   "id": "1cd383bc",
   "metadata": {},
   "source": [
    "## Homework 2 - Programming Problem (Data Structures, Fall 2023)\n",
    "\n",
    "### Name: 葉芸茜\n",
    "### Student ID Number: B812110004"
   ]
  },
  {
   "cell_type": "markdown",
   "id": "96323786-876c-4770-a86e-fb135985c4ba",
   "metadata": {},
   "source": [
    "### Problem 6 \n",
    " The **binomial coefficients** may be defined by the following recurrence relation, which is the idea of ***Pascal's triangle***. The top of Pascal's triangle is shown as below.\n",
    "\\begin{eqnarray}\n",
    "  C(n,0)=1 ~~~~~~ C(n,n)=1     &  \\mbox{for } n\\geq 0 \\\\\n",
    "  C(n,k)=C(n-1,k)+C(n-1,k-1)~~ &  \\mbox{for } n>k>0 \\\\\n",
    "\\end{eqnarray}\n",
    "\n",
    "<img src=Pascal_triangle.png  width=\"400\" height=\"200\">\n",
    " \n",
    "1. Draw the *recursion tree* for calculating $C(6,4)$.\n",
    "2. Write a function `PA_r()` using a *recursive* way to generate Pascal's triangle in the lower left half of the array.\n",
    "3. As (2), write a *nonrecursive* function `PA_n()` to generate Pascal's triangle in the lower left half of the array.\n",
    "4. Again, write a *nonrecursive* program `PA_d()` that uses neither an array to calculate each $C(n,k)$ directly.\n",
    "5. Please do some experiments by yourself to observe the running time and perform a comparison on these three versions by the execution time. Thus, you need to write a Python program to do the comparison, which will call `PA_r()`, `PA_n()`, and `PA_d()`, respectively. Please see the execution example below. To measure the execution time. Please use Python's `timeit` module to do the measurement.\n",
    "6. Determine the approximate space and time requirements for each of the algorithms devised in parts (2), (3), and (4)."
   ]
  },
  {
   "cell_type": "markdown",
   "id": "2fb0b104-45c7-4e2c-87e1-ae8174e67dc9",
   "metadata": {},
   "source": [
    "1. Draw the *recursion tree* for calculating $C(6,4)$."
   ]
  },
  {
   "cell_type": "markdown",
   "id": "1b959f83",
   "metadata": {},
   "source": [
    "![Img](https://i.imgur.com/FqKfUnw.png)"
   ]
  },
  {
   "cell_type": "markdown",
   "id": "3b825472",
   "metadata": {},
   "source": [
    "\\documentclass{article}\n",
    "% \\usepackage[landscape]{geometry}\n",
    "\\usepackage[landscape, margin=0.05cm]{geometry}\n",
    "\\usepackage{tikz}\n",
    "\n",
    "\\begin{document}\n",
    "\n",
    "\\begin{tikzpicture}[\n",
    "    every node/.style={\n",
    "        circle, draw,\n",
    "        inner sep=0pt,\n",
    "        text width=6.5mm,\n",
    "        align=center,\n",
    "        font=\\tiny\n",
    "    },\n",
    "    level distance=20mm,\n",
    "    level 1/.style={sibling distance=150mm},\n",
    "    level 2/.style={sibling distance=80mm},\n",
    "    level 3/.style={sibling distance=45mm},\n",
    "    level 4/.style={sibling distance=20mm},\n",
    "    level 5/.style={sibling distance=12mm},\n",
    "]\n",
    "\n",
    "\\node (root) [label=right:15] {C(6,4)}\n",
    "child{\n",
    "\tnode[label=right:5]{C(5,4)}\t\n",
    "\t\tchild{\n",
    "\t\t\tnode[label=right:1]{C(4,4)}\n",
    "\t\t}\n",
    "\t\tchild{\n",
    "\t\t\tnode[label=right:4]{C(4,3)}\n",
    "\t\t\t\tchild{\n",
    "\t\t\t\t\tnode[label=right:1]{C(3,3)}\n",
    "\t\t\t\t}\n",
    "\t\t\t\tchild{\n",
    "\t\t\t\t\tnode[label=right:3]{C(3,2)}\n",
    "\t\t\t\t\t\tchild{\n",
    "\t\t\t\t\t\t\tnode[label=right:1]{C(2,2)}\n",
    "\t\t\t\t\t\t}\n",
    "\t\t\t\t\t\tchild{\n",
    "\t\t\t\t\t\t\tnode[label=right:2]{C(2,1)}\n",
    "\t\t\t\t\t\t\t\tchild{\n",
    "\t\t\t\t\t\t\t\t\tnode[label=right:1]{C(1,1)}\n",
    "\t\t\t\t\t\t\t\t}\n",
    "\t\t\t\t\t\t\t\tchild{\n",
    "\t\t\t\t\t\t\t\t\tnode[label=right:1]{C(1,0)}\n",
    "\t\t\t\t\t\t\t\t}\n",
    "\t\t\t\t\t\t}\n",
    "\t\t\t\t}\n",
    "\t\t}\n",
    "}\n",
    "child{\n",
    "\tnode[label=right:10]{C(5,3)}\n",
    "\t\tchild{\n",
    "\t\t\tnode[label=right:4]{C(4,3)}\n",
    "\t\t\t\tchild{\n",
    "\t\t\t\t\tnode[label=right:1]{C(3,3)}\n",
    "\t\t\t\t}\n",
    "\t\t\t\tchild{\n",
    "\t\t\t\t\tnode[label=right:3]{C(3,2)}\n",
    "\t\t\t\t\t\tchild{\n",
    "\t\t\t\t\t\t\tnode[label=right:1]{C(2,2)}\n",
    "\t\t\t\t\t\t}\n",
    "\t\t\t\t\t\tchild{\n",
    "\t\t\t\t\t\t\tnode[label=right:2]{C(2,1)}\n",
    "\t\t\t\t\t\t\t\tchild{\n",
    "\t\t\t\t\t\t\t\t\tnode[label=right:1]{C(1,1)}\n",
    "\t\t\t\t\t\t\t\t}\n",
    "\t\t\t\t\t\t\t\tchild{\n",
    "\t\t\t\t\t\t\t\t\tnode[label=right:1]{C(1,0)}\n",
    "\t\t\t\t\t\t\t\t}\n",
    "\t\t\t\t\t\t}\n",
    "\t\t\t\t}\n",
    "\t\t}\n",
    "\t\tchild{\n",
    "\t\t\tnode[label=right:6]{C(4,2)}\n",
    "\t\t\t\tchild{\n",
    "\t\t\t\t\tnode[label=right:3]{C(3,2)}\n",
    "\t\t\t\t\t\tchild{\n",
    "\t\t\t\t\t\t\tnode[label=right:1]{C(2,2)}\n",
    "\t\t\t\t\t\t}\n",
    "\t\t\t\t\t\tchild{\n",
    "\t\t\t\t\t\t\tnode[label=right:1]{C(2,1)}\n",
    "\t\t\t\t\t\t\t\tchild{\n",
    "\t\t\t\t\t\t\t\t\tnode[label=right:1]{C(1,1)}\n",
    "\t\t\t\t\t\t\t\t}\n",
    "\t\t\t\t\t\t\t\tchild{\n",
    "\t\t\t\t\t\t\t\t\tnode[label=right:1]{C(1,0)}\n",
    "\t\t\t\t\t\t\t\t}\n",
    "\t\t\t\t\t\t}\n",
    "\t\t\t\t}\n",
    "\t\t\t\tchild{\n",
    "\t\t\t\t\tnode[label=right:3]{C(3,1)}\n",
    "\t\t\t\t\t\tchild{\n",
    "\t\t\t\t\t\t\tnode[label=right:2]{C(2,1)}\n",
    "\t\t\t\t\t\t\t\tchild{\n",
    "\t\t\t\t\t\t\t\t\tnode[label=right:1]{C(1,0)}\n",
    "\t\t\t\t\t\t\t\t}\n",
    "\t\t\t\t\t\t\t\tchild{\n",
    "\t\t\t\t\t\t\t\t\tnode[label=right:1]{C(0,0)}\n",
    "\t\t\t\t\t\t\t\t}\n",
    "\t\t\t\t\t\t}\n",
    "\t\t\t\t\t\tchild{\n",
    "\t\t\t\t\t\t\tnode[label=right:1]{C(2,0)}\n",
    "\t\t\t\t\t\t}\n",
    "\t\t\t\t}\n",
    "\t\t}\n",
    "};\n",
    "\\end{tikzpicture}\n",
    "\n",
    "\\end{document}"
   ]
  },
  {
   "cell_type": "markdown",
   "id": "71418872-b7dc-40bc-99c4-394fcf60e338",
   "metadata": {},
   "source": [
    "2. Write a function `PA_r()` using a *recursive* way to generate Pascal's triangle in the lower left half of the array."
   ]
  },
  {
   "cell_type": "code",
   "execution_count": 6,
   "id": "bec3be7e-34da-4dcb-973a-3e9b582e42da",
   "metadata": {},
   "outputs": [
    {
     "name": "stdout",
     "output_type": "stream",
     "text": [
      "[[1], [1, 1], [1, 2, 1], [1, 3, 3, 1], [1, 4, 6, 4, 1], [1, 5, 10, 10, 5, 1], [1, 6, 15, 20, 15, 6, 1], [1, 7, 21, 35, 35, 21, 7, 1], [1, 8, 28, 56, 70, 56, 28, 8, 1], [1, 9, 36, 84, 126, 126, 84, 36, 9, 1]]\n"
     ]
    }
   ],
   "source": [
    "def binomial(n, k):\n",
    "    if(k == 0 or k == n):\n",
    "        return 1\n",
    "    return binomial(n-1, k) + binomial(n-1, k-1)\n",
    "\n",
    "def PA_r(n):\n",
    "    result = []\n",
    "    for i in range(n):\n",
    "        temp = []\n",
    "        for j in range(i + 1):\n",
    "            temp.append(binomial(i, j))\n",
    "        result.append(temp)\n",
    "    return result\n",
    "    \n",
    "    \n",
    "result = PA_r(10)\n",
    "print(result)"
   ]
  },
  {
   "cell_type": "markdown",
   "id": "bc50109d-f74e-4bf6-9253-ecdb180b8367",
   "metadata": {},
   "source": [
    "3. As (2), write a *nonrecursive* function `PA_n()` to generate Pascal's triangle in the lower left half of the array."
   ]
  },
  {
   "cell_type": "code",
   "execution_count": 9,
   "id": "5f183cca-ec54-42a2-9b71-29229f62bbb6",
   "metadata": {},
   "outputs": [
    {
     "name": "stdout",
     "output_type": "stream",
     "text": [
      "[[1], [1, 1], [1, 2, 1], [1, 3, 3, 1], [1, 4, 6, 4, 1], [1, 5, 10, 10, 5, 1], [1, 6, 15, 20, 15, 6, 1], [1, 7, 21, 35, 35, 21, 7, 1], [1, 8, 28, 56, 70, 56, 28, 8, 1], [1, 9, 36, 84, 126, 126, 84, 36, 9, 1]]\n"
     ]
    }
   ],
   "source": [
    "def PA_n(n):\n",
    "    result = []\n",
    "    for i in range(n):\n",
    "        temp = []\n",
    "        for j in range(i + 1):\n",
    "            if(j == 0 or j == i):\n",
    "                temp.append(1)\n",
    "            else:\n",
    "                temp.append(result[i-1][j-1] + result[i-1][j])\n",
    "        result.append(temp)\n",
    "    return result\n",
    "        \n",
    "result = PA_n(10)\n",
    "print(result)"
   ]
  },
  {
   "cell_type": "markdown",
   "id": "7bb918d4-1375-48da-a518-471b8608e8d8",
   "metadata": {},
   "source": [
    "4. Again, write a *nonrecursive* program `PA_d()` that uses neither an array to calculate each $C(n,k)$ directly."
   ]
  },
  {
   "cell_type": "code",
   "execution_count": 11,
   "id": "205e0ae5-7dce-4d4c-a3c9-f314b1a86a1e",
   "metadata": {},
   "outputs": [
    {
     "name": "stdout",
     "output_type": "stream",
     "text": [
      "[[1], [1, 1], [1, 2, 1], [1, 3, 3, 1], [1, 4, 6, 4, 1], [1, 5, 10, 10, 5, 1], [1, 6, 15, 20, 15, 6, 1], [1, 7, 21, 35, 35, 21, 7, 1], [1, 8, 28, 56, 70, 56, 28, 8, 1], [1, 9, 36, 84, 126, 126, 84, 36, 9, 1]]\n"
     ]
    }
   ],
   "source": [
    "def binomial_coefficient(n, k):\n",
    "    coefficient = 1\n",
    "    for i in range(1, k + 1):\n",
    "        coefficient *= n - i + 1\n",
    "        coefficient //= i\n",
    "    return coefficient\n",
    "\n",
    "def PA_d(n):\n",
    "    result = []\n",
    "    for i in range(n):\n",
    "        temp = []\n",
    "        for j in range(i + 1):\n",
    "            temp.append(binomial_coefficient(i, j))\n",
    "        result.append(temp)\n",
    "    return result\n",
    "       \n",
    "result = PA_d(10)\n",
    "print(result)"
   ]
  },
  {
   "cell_type": "markdown",
   "id": "98283dc8-9d39-4b19-85a1-c42dd1ea86f9",
   "metadata": {},
   "source": [
    "5. Please do some experiments by yourself to observe the running time and perform a comparison on these three versions by the execution time. Thus, you need to write a Python program to do the comparison, which will call `PA_r()`, `PA_n()`, and `PA_d()`, respectively. Please see the execution example below. To measure the execution time. Please use Python's `timeit` module to do the measurement."
   ]
  },
  {
   "cell_type": "code",
   "execution_count": 21,
   "id": "f40f2fe8-d6d7-4edf-9ae7-39eb2259abad",
   "metadata": {},
   "outputs": [
    {
     "name": "stdout",
     "output_type": "stream",
     "text": [
      "input the degree: 7\n",
      "input the kth term k: 4\n",
      "Recursion on          C[ 7 ][ 4 ]= 35 ; excution time:  1.650000922381878e-05\n",
      "Non-Recursion on      C[ 7 ][ 4 ]= 35 ; excution time:  2.0900042727589607e-05\n",
      "Direct Computation on C[ 7 ][ 4 ]= 35 ; excution time:  1.6499951016157866e-05\n"
     ]
    }
   ],
   "source": [
    "import timeit as ti\n",
    "\n",
    "def PA_r(n, k):\n",
    "    if(k == 0 or k == n):\n",
    "        return 1\n",
    "    return binomial(n-1, k) + binomial(n-1, k-1)\n",
    "\n",
    "####################################################\n",
    "\n",
    "def PA_n(n,k):\n",
    "    # 創建一個 n*k 大小的陣列，元素初始化為 0\n",
    "    result = [[0] * (k + 1) for _ in range(n + 1)]\n",
    "\n",
    "    for i in range(n + 1):\n",
    "        for j in range(min(i, k) + 1):\n",
    "            if j == 0 or j == i:\n",
    "                result[i][j] = 1\n",
    "            else:\n",
    "                result[i][j] = result[i - 1][j] + result[i - 1][j - 1]\n",
    "    return result[n][k]\n",
    "\n",
    "####################################################\n",
    "\n",
    "def PA_d(n,k):\n",
    "    coefficient = 1\n",
    "    for i in range(1, k + 1):\n",
    "        coefficient *= n - i + 1\n",
    "        coefficient //= i\n",
    "    return coefficient\n",
    "\n",
    "####################################################\n",
    "# degree n:\n",
    "# kth term k:\n",
    "\n",
    "n = int(input(\"input the degree: \"))\n",
    "k = int(input(\"input the kth term k: \"))\n",
    "\n",
    "#time1 = ti.timeit(lambda: PA_r(n, k), number = 1000) \n",
    "time1 = ti.timeit(lambda: PA_r(n, k), number = 1) \n",
    "#time2 = ti.timeit(lambda: PA_n(n, k), number = 1000) \n",
    "time2 = ti.timeit(lambda: PA_n(n, k), number = 1) \n",
    "#time3 = ti.timeit(lambda: PA_d(n, k), number = 1000)\n",
    "time3 = ti.timeit(lambda: PA_n(n, k), number = 1) \n",
    "\n",
    "print(f\"Recursion on          C[ {n} ][ {k} ]= {PA_r(n, k)} ; excution time:  {time1}\")\n",
    "print(f\"Non-Recursion on      C[ {n} ][ {k} ]= {PA_n(n, k)} ; excution time:  {time2}\")\n",
    "print(f\"Direct Computation on C[ {n} ][ {k} ]= {PA_d(n, k)} ; excution time:  {time3}\")"
   ]
  },
  {
   "cell_type": "markdown",
   "id": "c8c1bdd2-6be9-45f5-82b0-5667caa10f7b",
   "metadata": {},
   "source": [
    "6. Determine the approximate space and time requirements for each of the algorithms devised in parts (2), (3), and (4)."
   ]
  },
  {
   "cell_type": "markdown",
   "id": "0faf41de-0f71-4d25-916e-9e5215567c9a",
   "metadata": {},
   "source": [
    "(b)(c)(d)  space = time = $O(n^2)$"
   ]
  },
  {
   "cell_type": "code",
   "execution_count": null,
   "id": "58de7e23",
   "metadata": {},
   "outputs": [],
   "source": []
  }
 ],
 "metadata": {
  "kernelspec": {
   "display_name": "Python 3 (ipykernel)",
   "language": "python",
   "name": "python3"
  },
  "language_info": {
   "codemirror_mode": {
    "name": "ipython",
    "version": 3
   },
   "file_extension": ".py",
   "mimetype": "text/x-python",
   "name": "python",
   "nbconvert_exporter": "python",
   "pygments_lexer": "ipython3",
   "version": "3.10.9"
  }
 },
 "nbformat": 4,
 "nbformat_minor": 5
}
